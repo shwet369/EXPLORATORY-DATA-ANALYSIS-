{
 "cells": [
  {
   "cell_type": "code",
   "execution_count": 5,
   "id": "e5eef1cb",
   "metadata": {},
   "outputs": [],
   "source": [
    "import pandas as pd\n",
    "import numpy as np\n",
    "import seaborn as sns\n",
    "import matplotlib.pyplot as plt\n",
    "%matplotlib inline"
   ]
  },
  {
   "cell_type": "code",
   "execution_count": 6,
   "id": "6296b2dd",
   "metadata": {},
   "outputs": [
    {
     "data": {
      "text/html": [
       "<div>\n",
       "<style scoped>\n",
       "    .dataframe tbody tr th:only-of-type {\n",
       "        vertical-align: middle;\n",
       "    }\n",
       "\n",
       "    .dataframe tbody tr th {\n",
       "        vertical-align: top;\n",
       "    }\n",
       "\n",
       "    .dataframe thead th {\n",
       "        text-align: right;\n",
       "    }\n",
       "</style>\n",
       "<table border=\"1\" class=\"dataframe\">\n",
       "  <thead>\n",
       "    <tr style=\"text-align: right;\">\n",
       "      <th></th>\n",
       "      <th>case_id</th>\n",
       "      <th>continent</th>\n",
       "      <th>education_of_employee</th>\n",
       "      <th>has_job_experience</th>\n",
       "      <th>requires_job_training</th>\n",
       "      <th>no_of_employees</th>\n",
       "      <th>yr_of_estab</th>\n",
       "      <th>region_of_employment</th>\n",
       "      <th>prevailing_wage</th>\n",
       "      <th>unit_of_wage</th>\n",
       "      <th>full_time_position</th>\n",
       "      <th>case_status</th>\n",
       "    </tr>\n",
       "  </thead>\n",
       "  <tbody>\n",
       "    <tr>\n",
       "      <th>0</th>\n",
       "      <td>EZYV01</td>\n",
       "      <td>Asia</td>\n",
       "      <td>High School</td>\n",
       "      <td>N</td>\n",
       "      <td>N</td>\n",
       "      <td>14513</td>\n",
       "      <td>2007</td>\n",
       "      <td>West</td>\n",
       "      <td>592.2029</td>\n",
       "      <td>Hour</td>\n",
       "      <td>Y</td>\n",
       "      <td>Denied</td>\n",
       "    </tr>\n",
       "    <tr>\n",
       "      <th>1</th>\n",
       "      <td>EZYV02</td>\n",
       "      <td>Asia</td>\n",
       "      <td>Master's</td>\n",
       "      <td>Y</td>\n",
       "      <td>N</td>\n",
       "      <td>2412</td>\n",
       "      <td>2002</td>\n",
       "      <td>Northeast</td>\n",
       "      <td>83425.6500</td>\n",
       "      <td>Year</td>\n",
       "      <td>Y</td>\n",
       "      <td>Certified</td>\n",
       "    </tr>\n",
       "    <tr>\n",
       "      <th>2</th>\n",
       "      <td>EZYV03</td>\n",
       "      <td>Asia</td>\n",
       "      <td>Bachelor's</td>\n",
       "      <td>N</td>\n",
       "      <td>Y</td>\n",
       "      <td>44444</td>\n",
       "      <td>2008</td>\n",
       "      <td>West</td>\n",
       "      <td>122996.8600</td>\n",
       "      <td>Year</td>\n",
       "      <td>Y</td>\n",
       "      <td>Denied</td>\n",
       "    </tr>\n",
       "    <tr>\n",
       "      <th>3</th>\n",
       "      <td>EZYV04</td>\n",
       "      <td>Asia</td>\n",
       "      <td>Bachelor's</td>\n",
       "      <td>N</td>\n",
       "      <td>N</td>\n",
       "      <td>98</td>\n",
       "      <td>1897</td>\n",
       "      <td>West</td>\n",
       "      <td>83434.0300</td>\n",
       "      <td>Year</td>\n",
       "      <td>Y</td>\n",
       "      <td>Denied</td>\n",
       "    </tr>\n",
       "    <tr>\n",
       "      <th>4</th>\n",
       "      <td>EZYV05</td>\n",
       "      <td>Africa</td>\n",
       "      <td>Master's</td>\n",
       "      <td>Y</td>\n",
       "      <td>N</td>\n",
       "      <td>1082</td>\n",
       "      <td>2005</td>\n",
       "      <td>South</td>\n",
       "      <td>149907.3900</td>\n",
       "      <td>Year</td>\n",
       "      <td>Y</td>\n",
       "      <td>Certified</td>\n",
       "    </tr>\n",
       "  </tbody>\n",
       "</table>\n",
       "</div>"
      ],
      "text/plain": [
       "  case_id continent education_of_employee has_job_experience  \\\n",
       "0  EZYV01      Asia           High School                  N   \n",
       "1  EZYV02      Asia              Master's                  Y   \n",
       "2  EZYV03      Asia            Bachelor's                  N   \n",
       "3  EZYV04      Asia            Bachelor's                  N   \n",
       "4  EZYV05    Africa              Master's                  Y   \n",
       "\n",
       "  requires_job_training  no_of_employees  yr_of_estab region_of_employment  \\\n",
       "0                     N            14513         2007                 West   \n",
       "1                     N             2412         2002            Northeast   \n",
       "2                     Y            44444         2008                 West   \n",
       "3                     N               98         1897                 West   \n",
       "4                     N             1082         2005                South   \n",
       "\n",
       "   prevailing_wage unit_of_wage full_time_position case_status  \n",
       "0         592.2029         Hour                  Y      Denied  \n",
       "1       83425.6500         Year                  Y   Certified  \n",
       "2      122996.8600         Year                  Y      Denied  \n",
       "3       83434.0300         Year                  Y      Denied  \n",
       "4      149907.3900         Year                  Y   Certified  "
      ]
     },
     "execution_count": 6,
     "metadata": {},
     "output_type": "execute_result"
    }
   ],
   "source": [
    "file=\"C:\\\\Users\\\\SHWETA BHOYAR\\\\OneDrive\\\\Documents\\\\New folder\\\\Omkar sir PYTHON\\\\Full Stack Data Science @ 7_15 AM _ Mr.Omkar [6th Dec] Mr.Omkar-20231223T183622Z-001\\\\Excel data set\\Visadataset.csv\"\n",
    "df=pd.read_csv(file)\n",
    "df.head()"
   ]
  },
  {
   "cell_type": "code",
   "execution_count": 7,
   "id": "f9f97a0c",
   "metadata": {},
   "outputs": [
    {
     "data": {
      "image/png": "[encoded data removed]",
      "text/plain": [
       "<Figure size 640x480 with 1 Axes>"
      ]
     },
     "metadata": {},
     "output_type": "display_data"
    }
   ],
   "source": [
    "plt.boxplot(df['prevailing_wage'], vert=False)\n",
    "plt.show()\n",
    "# orange line : Median value = 50P data\n",
    "# Black dots all are outliers"
   ]
  },
  {
   "cell_type": "markdown",
   "id": "da42a151",
   "metadata": {},
   "source": [
    "Q1-    1.5IQR     Q1 median     Q3 Q3+1.5IQR\n",
    "                |-----:-----|\n",
    "o        |------|     :     |--------| o o\n",
    "                |-----:-----|\n",
    "          flier <-----------> fliers\n",
    "                     IQR"
   ]
  },
  {
   "cell_type": "markdown",
   "id": "5016913f",
   "metadata": {},
   "source": [
    "- Procedure to find the Outliers\n",
    "\n",
    "*step-1:\n",
    "\n",
    "- Calculate Q1 Q2 and Q3\n",
    "\n",
    "*step-2:\n",
    "\n",
    "- Calculate IQR=(Q3-Q1)\n",
    "\n",
    "*step-3:\n",
    "\n",
    "- Calculate UB=Q3+1.5*IQR\n",
    "- Calculate LB=Q1-1.5*IQR\n",
    "\n",
    "*step-4:\n",
    "- Find the outliers which are having greater than UB\n",
    "- Find the outliers which are having less than LB"
   ]
  },
  {
   "cell_type": "code",
   "execution_count": 15,
   "id": "f5efce37",
   "metadata": {},
   "outputs": [],
   "source": [
    "#step-1\n",
    "Q1=np.quantile(df['prevailing_wage'],0.25)\n",
    "Q2=np.quantile(df['prevailing_wage'],0.50)\n",
    "Q3=np.quantile(df['prevailing_wage'],0.75)\n",
    "\n",
    "#step-2\n",
    "IQR=Q3-Q1\n",
    "\n",
    "#Step-3\n",
    "UB=Q3+1.5*IQR\n",
    "LB=Q3-1.5*IQR\n",
    "UB,LB\n",
    "\n",
    "#Step-4\n",
    "con1=df['prevailing_wage']>UB\n",
    "con2=df['prevailing_wage']<LB\n",
    "\n",
    "#step-5\n",
    "outliers= df[con1|con2]"
   ]
  },
  {
   "cell_type": "code",
   "execution_count": 19,
   "id": "ca5311dc",
   "metadata": {},
   "outputs": [
    {
     "name": "stdout",
     "output_type": "stream",
     "text": [
      "no_of_employees has 1556 outliers\n",
      "no_of_employees has 1556 outliers\n",
      "yr_of_estab has 3260 outliers\n",
      "yr_of_estab has 3260 outliers\n",
      "prevailing_wage has 427 outliers\n",
      "prevailing_wage has 427 outliers\n"
     ]
    }
   ],
   "source": [
    "def outliers(col):\n",
    "    Q1=np.quantile(df[col],0.25)\n",
    "    Q2=np.quantile(df[col],0.50)\n",
    "    Q3=np.quantile(df[col],0.75)\n",
    "    IQR=Q3-Q1\n",
    "    UB=Q3+1.5*IQR\n",
    "    LB=Q1-1.5*IQR\n",
    "    con1=df[col]>UB\n",
    "    con2=df[col]<LB\n",
    "    outliers_df=df[con1|con2]\n",
    "    print(f'{col} has {len(outliers_df)} outliers')\n",
    "    print('{} has {} outliers'.format(col,len(outliers_df)))\n",
    "    \n",
    "num_col=df.select_dtypes(exclude='object').columns\n",
    "for col in num_col:\n",
    "    outliers(col)"
   ]
  },
  {
   "cell_type": "code",
   "execution_count": 21,
   "id": "6b0fabdc",
   "metadata": {},
   "outputs": [],
   "source": [
    "Q1=np.quantile(df['prevailing_wage'],0.25)\n",
    "Q2=np.quantile(df['prevailing_wage'],0.50)\n",
    "Q3=np.quantile(df['prevailing_wage'],0.75)\n",
    "IQR=Q3-Q1\n",
    "UB=Q3+1.5*IQR\n",
    "LB=Q1-1.5*IQR\n",
    "############ Outliers df #################\n",
    "con1=df['prevailing_wage']>UB\n",
    "con2=df['prevailing_wage']<LB\n",
    "outliers_df=df[con1|con2]\n",
    "########## Non outliers df ###############\n",
    "con11=df['prevailing_wage']<UB\n",
    "con22=df['prevailing_wage']>LB\n",
    "non_outliers_df=df[con11&con22]"
   ]
  },
  {
   "cell_type": "code",
   "execution_count": 22,
   "id": "92bdb197",
   "metadata": {},
   "outputs": [
    {
     "data": {
      "text/plain": [
       "(25053, 427)"
      ]
     },
     "execution_count": 22,
     "metadata": {},
     "output_type": "execute_result"
    }
   ],
   "source": [
    "len(non_outliers_df),len(outliers_df)\n"
   ]
  },
  {
   "cell_type": "code",
   "execution_count": 23,
   "id": "665344aa",
   "metadata": {},
   "outputs": [
    {
     "data": {
      "text/plain": [
       "25480"
      ]
     },
     "execution_count": 23,
     "metadata": {},
     "output_type": "execute_result"
    }
   ],
   "source": [
    "len(non_outliers_df)+len(outliers_df)"
   ]
  },
  {
   "cell_type": "code",
   "execution_count": 25,
   "id": "e238677d",
   "metadata": {},
   "outputs": [
    {
     "data": {
      "image/png": "[encoded data removed]",
      "text/plain": [
       "<Figure size 1000x800 with 4 Axes>"
      ]
     },
     "metadata": {},
     "output_type": "display_data"
    }
   ],
   "source": [
    "# Will compare\n",
    "# Total data (25480) vs Non outliers data (25053)\n",
    "plt.figure(figsize=(10,8))\n",
    "plt.subplot(2,2,1)\n",
    "plt.boxplot(df['prevailing_wage'],vert=False) # 25480\n",
    "plt.subplot(2,2,2)\n",
    "plt.boxplot(non_outliers_df['prevailing_wage'],vert=False) # 25053\n",
    "plt.subplot(2,2,3)\n",
    "plt.hist(df['prevailing_wage'],bins=40)\n",
    "plt.subplot(2,2,4)\n",
    "plt.hist(non_outliers_df['prevailing_wage'],bins=40)\n",
    "plt.show()"
   ]
  },
  {
   "cell_type": "markdown",
   "id": "1fc46383",
   "metadata": {},
   "source": [
    "- How to deal outliers\n",
    "- Drop the outliers based some percentage\n",
    "- if you have very huge data\n",
    "- and the outliers percentage is <2 , then drop the outliers\n",
    "- Drop the outliers means , we are removing some rows all the columns\n",
    "- In the above examples total count=25480, outliers are =427 , 427*100/25480 = 1.6\n",
    "- After removing 427 observations, we have 25053 observation (98% of data)\n",
    "- Impute (Fill) the outliers with Median value\n",
    "- We alreday know that outliers doesnt affect Median value\n",
    "- So if you dont want loss the data, and you want fill the outliers then use Median\n",
    "- Impute (Fill) with UB and LB values (Capping)\n",
    "- Fill the outliers with UB value, which are having >UB\n",
    "- Fill the outliers with LB value, which are having <LB"
   ]
  },
  {
   "cell_type": "code",
   "execution_count": 26,
   "id": "f843da9b",
   "metadata": {},
   "outputs": [],
   "source": [
    "# Fill the outliers\n",
    "# Missing values\n",
    "# Bi variate multivariate\n",
    "# Cate to num\n",
    "# standard\n",
    "# Transformation\n",
    "# Feature selection\n",
    "# PCA"
   ]
  },
  {
   "cell_type": "code",
   "execution_count": null,
   "id": "87be028f",
   "metadata": {},
   "outputs": [],
   "source": []
  }
 ],
 "metadata": {
  "kernelspec": {
   "display_name": "Python 3 (ipykernel)",
   "language": "python",
   "name": "python3"
  },
  "language_info": {
   "codemirror_mode": {
    "name": "ipython",
    "version": 3
   },
   "file_extension": ".py",
   "mimetype": "text/x-python",
   "name": "python",
   "nbconvert_exporter": "python",
   "pygments_lexer": "ipython3",
   "version": "3.11.5"
  }
 },
 "nbformat": 4,
 "nbformat_minor": 5
}
